{
 "cells": [
  {
   "cell_type": "code",
   "execution_count": null,
   "metadata": {},
   "outputs": [
    {
     "name": "stdout",
     "output_type": "stream",
     "text": [
      "/home/benjamin/git/swiss-river-network\n",
      "~~~ Swiss 1990 ~~~ \n",
      "Stations: 28\n",
      "Density: tensor(1596.2872)\n",
      "Training: 1990-01-02 00:00:00+00:00 2012-12-31 00:00:00+00:00\n",
      "Training: 2013-01-02 00:00:00+00:00 2020-12-31 00:00:00+00:00\n",
      "~~~ Swiss 2010 ~~~ \n",
      "Stations: 63\n",
      "Density: tensor(1039.8373)\n",
      "Training: 2005-01-02 00:00:00+00:00 2017-12-31 00:00:00+00:00\n",
      "Training: 2018-01-01 00:00:00+00:00 2020-12-31 00:00:00+00:00\n",
      "~~~ Zurich ~~~ \n",
      "Stations: 15\n",
      "Density: tensor(73.8142)\n",
      "Training: 2009-01-01 00:00:00+00:00 2019-12-31 00:00:00+00:00\n",
      "Training: 2020-01-01 00:00:00+00:00 2022-10-31 00:00:00+00:00\n"
     ]
    }
   ],
   "source": [
    "# Magic home\n",
    "%cd /home/benjamin/git/swiss-river-network/\n",
    "\n",
    "import numpy as np\n",
    "import matplotlib.pyplot as plt\n",
    "\n",
    "\n",
    "from swissrivernetwork.benchmark.dataset import read_graph, read_csv_test, read_csv_train\n",
    "from swissrivernetwork.util.datetime import to_human, from_unix_days\n",
    "\n",
    "# Labels\n",
    "label = {}\n",
    "label['swiss-1990'] = 'Swiss 1990'\n",
    "label['swiss-2010'] = 'Swiss 2010'\n",
    "label['zurich'] = 'Zurich'\n",
    "\n",
    "# Variables\n",
    "GRAPH_NAMES = ['swiss-1990', 'swiss-2010', 'zurich']\n",
    "\n",
    "def print_dates(df):\n",
    "    vmin, vmax = df['epoch_day'].min(), df['epoch_day'].max()\n",
    "    print('Training:', to_human(from_unix_days(vmin)), to_human(from_unix_days(vmax)))\n",
    "\n",
    "for graph_name in GRAPH_NAMES:\n",
    "    # Load Graph Data:\n",
    "    g,e = read_graph(graph_name)\n",
    "    n = g.shape[0]\n",
    "    \n",
    "    # compute covered area:\n",
    "    dx = g[:, 0].max() - g[:, 0].min()\n",
    "    dy = g[:, 1].max() - g[:, 1].min()\n",
    "    dx, dy = dx / 1000, dy / 1000 # in km\n",
    "    area = dx*dy\n",
    "    area_per_n = area/n\n",
    "\n",
    "    # print table values:\n",
    "    print(f'~~~ {label[graph_name]} ~~~ ')\n",
    "    print('Stations:', n)\n",
    "    print('Density:', area_per_n)\n",
    "\n",
    "    # Get the years\n",
    "    df = read_csv_train(graph_name)\n",
    "    print_dates(df)    \n",
    "    df = read_csv_test(graph_name)\n",
    "    print_dates(df)\n",
    "\n",
    "\n",
    "\n"
   ]
  }
 ],
 "metadata": {
  "kernelspec": {
   "display_name": "venv",
   "language": "python",
   "name": "python3"
  },
  "language_info": {
   "codemirror_mode": {
    "name": "ipython",
    "version": 3
   },
   "file_extension": ".py",
   "mimetype": "text/x-python",
   "name": "python",
   "nbconvert_exporter": "python",
   "pygments_lexer": "ipython3",
   "version": "3.11.7"
  }
 },
 "nbformat": 4,
 "nbformat_minor": 2
}
